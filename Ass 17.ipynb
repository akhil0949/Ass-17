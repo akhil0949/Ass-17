{
 "cells": [
  {
   "cell_type": "code",
   "execution_count": null,
   "id": "e8b44c29",
   "metadata": {},
   "outputs": [],
   "source": [
    "1. Write a Python program to find words which are greater than given length k?\n",
    "Ans)\n",
    "l = [\"akhil\" , \"ramkrishna\" , \"ramu\" , \"hanumankrishna\"]\n",
    "length_k = 7\n",
    "for i in l:\n",
    "    if len(i) > length_k:\n",
    "        print(i)"
   ]
  },
  {
   "cell_type": "code",
   "execution_count": null,
   "id": "2ac4e7ea",
   "metadata": {},
   "outputs": [],
   "source": [
    "2. Write a Python program for removing i-th character from a string?\n",
    "Ans)\n",
    "l = \"akhilkumar\"\n",
    "i = int(input(\"enter ith char\"))\n",
    "a = l[:i]\n",
    "b = l[i+1:]\n",
    "print(a+b)"
   ]
  },
  {
   "cell_type": "code",
   "execution_count": null,
   "id": "e5baaf76",
   "metadata": {},
   "outputs": [],
   "source": [
    "3. Write a Python program to split and join a string?\n",
    "Ans)\n",
    "#spliting a string\n",
    "l = \"akhil kumar\"\n",
    "l.split()\n",
    "\n",
    "#joining a string\n",
    "l = \"akhil\"\n",
    "k = \"kumar\"\n",
    "l.join(k)"
   ]
  },
  {
   "cell_type": "code",
   "execution_count": null,
   "id": "cb5103f8",
   "metadata": {},
   "outputs": [],
   "source": [
    "4. Write a Python to check if a given string is binary string or not?\n",
    "Ans)\n",
    "S = input(\"give a string\")\n",
    "k = \"01\"\n",
    "count = 0\n",
    "for char in S:\n",
    "    if char not in k:\n",
    "        count = 1\n",
    "        break\n",
    "    else:\n",
    "        pass\n",
    "if count:\n",
    "    print(\"no\")\n",
    "else:\n",
    "    print(\"yes\")"
   ]
  },
  {
   "cell_type": "code",
   "execution_count": null,
   "id": "e791076c",
   "metadata": {},
   "outputs": [],
   "source": [
    "5. Write a Python program to find uncommon words from two Strings?\n",
    "Ans)\n",
    "A = \"apple banana mango\"\n",
    "B = \"banana fruit mango\"\n",
    "list_a = A.split()\n",
    "list_b = B.split()\n",
    "un_common = ''\n",
    "for i in list_a:\n",
    "    if i not in list_b:\n",
    "        un_common = un_common+\" \"+i\n",
    "for j in list_b:\n",
    "    if j not in list_a:\n",
    "        un_common = un_common+\" \"+j\n",
    "print(un_common)"
   ]
  },
  {
   "cell_type": "code",
   "execution_count": null,
   "id": "e444ad1e",
   "metadata": {},
   "outputs": [],
   "source": [
    "6. Write a Python to find all duplicate characters in string?\n",
    "Ans)\n",
    "A = \"ramrathanpurohit\"\n",
    "duplicates = []\n",
    "for i in A:\n",
    "    if A.count(i) > 1:\n",
    "        duplicates.append(i)\n",
    "print(duplicates)   "
   ]
  },
  {
   "cell_type": "code",
   "execution_count": null,
   "id": "c8216241",
   "metadata": {},
   "outputs": [],
   "source": [
    "7. Write a Python Program to check if a string contains any special character?\n",
    "Ans)\n",
    "import re\n",
    "\n",
    "my_string = \"ramrathan((*&^%purohit\"\n",
    "regex = re.compile('[@_!#$%^&*()<>?/\\|}{~:]')\n",
    "if(regex.search(my_string) == None):\n",
    "      print(\"String does not contains special characters.\")\n",
    "else:\n",
    "    print(\"String contain special character.\")"
   ]
  }
 ],
 "metadata": {
  "kernelspec": {
   "display_name": "Python 3",
   "language": "python",
   "name": "python3"
  },
  "language_info": {
   "codemirror_mode": {
    "name": "ipython",
    "version": 3
   },
   "file_extension": ".py",
   "mimetype": "text/x-python",
   "name": "python",
   "nbconvert_exporter": "python",
   "pygments_lexer": "ipython3",
   "version": "3.6.15"
  }
 },
 "nbformat": 4,
 "nbformat_minor": 5
}
